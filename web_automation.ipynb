{
  "nbformat": 4,
  "nbformat_minor": 0,
  "metadata": {
    "colab": {
      "provenance": [],
      "collapsed_sections": []
    },
    "kernelspec": {
      "name": "python3",
      "display_name": "Python 3"
    },
    "language_info": {
      "name": "python"
    }
  },
  "cells": [
    {
      "cell_type": "code",
      "execution_count": null,
      "metadata": {
        "colab": {
          "base_uri": "https://localhost:8080/"
        },
        "id": "P5Uukcubv6vL",
        "outputId": "a0742c0e-a79a-48b4-d6d5-1a3fb88c516d"
      },
      "outputs": [
        {
          "output_type": "stream",
          "name": "stdout",
          "text": [
            "'Shampoo Ultra Sensitive'\n",
            "717843\n"
          ]
        }
      ],
      "source": [
        "from pprint import pprint\n",
        "import os\n",
        "import json\n",
        "\n",
        "\"\"\"\n",
        "Step 1.1 Read the JSON file\n",
        "\"\"\"\n",
        "\n",
        "\n",
        "json_data = json.loads(open('result.json').read())\n",
        "second_json_data = json.loads(open('second_api.json').read())\n",
        "pprint(json_data['products'][0][\"name\"])\n",
        "pprint(json_data['products'][0][\"dan\"])\n"
      ]
    },
    {
      "cell_type": "code",
      "source": [
        "name,brandName,price,volume,pallette,dan = [],[],[],[],[],[]"
      ],
      "metadata": {
        "id": "Ech3OY2yB-ZW"
      },
      "execution_count": null,
      "outputs": []
    },
    {
      "cell_type": "code",
      "source": [
        "print(\"d%d\"%json_data['products'][0][\"dan\"])"
      ],
      "metadata": {
        "colab": {
          "base_uri": "https://localhost:8080/"
        },
        "id": "h2CGDZedC7rB",
        "outputId": "f328c945-e816-404e-c363-b0724d6fe125"
      },
      "execution_count": null,
      "outputs": [
        {
          "output_type": "stream",
          "name": "stdout",
          "text": [
            "d717843\n"
          ]
        }
      ]
    },
    {
      "cell_type": "code",
      "source": [
        "for prod in json_data['products']:\n",
        "  name.append(prod[\"name\"])\n",
        "  brandName.append(prod[\"brandName\"])\n",
        "  price.append(prod[\"price\"][\"value\"])\n",
        "  contentUnit = prod[\"contentUnit\"]\n",
        "  netQuantityContent = prod[\"netQuantityContent\"]\n",
        "  volume.append(\"%d %s\" %(netQuantityContent,contentUnit))\n",
        "  dan.append(prod[\"dan\"])\n",
        "  dane=prod[\"dan\"]\n",
        "  try:\n",
        "    pallette.append(second_json_data[\"d%d\"%dane]['p'])\n",
        "  except: pallette.append('no data')\n",
        "  \n",
        "  "
      ],
      "metadata": {
        "id": "X1Qm-iFVfzlY"
      },
      "execution_count": null,
      "outputs": []
    },
    {
      "cell_type": "code",
      "source": [
        "import pandas as pd\n",
        "df = pd.DataFrame(data={\"Name\":name,\n",
        "                        \"Brand Name\":brandName,\n",
        "                        \"Price\":price,\n",
        "                        \"Volume\":volume,\n",
        "                        \"Pallette\":pallette})\n",
        "df"
      ],
      "metadata": {
        "colab": {
          "base_uri": "https://localhost:8080/",
          "height": 424
        },
        "id": "uPh-doGcyKab",
        "outputId": "8657173a-6c0a-4a32-8f0d-4ec3d5dea4b2"
      },
      "execution_count": null,
      "outputs": [
        {
          "output_type": "execute_result",
          "data": {
            "text/plain": [
              "                                                  Name          Brand Name  \\\n",
              "0                              Shampoo Ultra Sensitive           Balea MED   \n",
              "1    Shampoo Natural Beauty Bio-Baumwoll-Extrakt un...               Balea   \n",
              "2    Shampoo Natural Beauty mit Bio-Avocadoöl und M...               Balea   \n",
              "3                                    Shampoo Every-Day             sebamed   \n",
              "4                             Shampoo Tiefenreinigung   Balea Professional   \n",
              "..                                                 ...                 ...   \n",
              "495                            Badezusatz Bade Murmeln               Tinti   \n",
              "496                 Badezusatz Superhelden Sprudelbad     Kneipp Naturkind   \n",
              "497                 Badezusatz Seeprinzessin Schaumbad    Kneipp Naturkind   \n",
              "498  Badezusatz Kinder Badespaß  Knisterbad Räuberb...            tetesept   \n",
              "499                   Badezusatz Zauberbad rosa / blau               Tinti   \n",
              "\n",
              "     Price  Volume Pallette  \n",
              "0     2.25  250 ml     2304  \n",
              "1     1.45  400 ml  no data  \n",
              "2     1.45  400 ml     1596  \n",
              "3     3.45  200 ml     1200  \n",
              "4     1.45  250 ml     2240  \n",
              "..     ...     ...      ...  \n",
              "495   1.95    3 St  no data  \n",
              "496   1.45    80 g  no data  \n",
              "497   3.25  400 ml  no data  \n",
              "498   1.75    50 g  no data  \n",
              "499   1.95    1 St  no data  \n",
              "\n",
              "[500 rows x 5 columns]"
            ],
            "text/html": [
              "\n",
              "  <div id=\"df-48055ba9-c22b-4dcc-83c0-07bb128e9070\">\n",
              "    <div class=\"colab-df-container\">\n",
              "      <div>\n",
              "<style scoped>\n",
              "    .dataframe tbody tr th:only-of-type {\n",
              "        vertical-align: middle;\n",
              "    }\n",
              "\n",
              "    .dataframe tbody tr th {\n",
              "        vertical-align: top;\n",
              "    }\n",
              "\n",
              "    .dataframe thead th {\n",
              "        text-align: right;\n",
              "    }\n",
              "</style>\n",
              "<table border=\"1\" class=\"dataframe\">\n",
              "  <thead>\n",
              "    <tr style=\"text-align: right;\">\n",
              "      <th></th>\n",
              "      <th>Name</th>\n",
              "      <th>Brand Name</th>\n",
              "      <th>Price</th>\n",
              "      <th>Volume</th>\n",
              "      <th>Pallette</th>\n",
              "    </tr>\n",
              "  </thead>\n",
              "  <tbody>\n",
              "    <tr>\n",
              "      <th>0</th>\n",
              "      <td>Shampoo Ultra Sensitive</td>\n",
              "      <td>Balea MED</td>\n",
              "      <td>2.25</td>\n",
              "      <td>250 ml</td>\n",
              "      <td>2304</td>\n",
              "    </tr>\n",
              "    <tr>\n",
              "      <th>1</th>\n",
              "      <td>Shampoo Natural Beauty Bio-Baumwoll-Extrakt un...</td>\n",
              "      <td>Balea</td>\n",
              "      <td>1.45</td>\n",
              "      <td>400 ml</td>\n",
              "      <td>no data</td>\n",
              "    </tr>\n",
              "    <tr>\n",
              "      <th>2</th>\n",
              "      <td>Shampoo Natural Beauty mit Bio-Avocadoöl und M...</td>\n",
              "      <td>Balea</td>\n",
              "      <td>1.45</td>\n",
              "      <td>400 ml</td>\n",
              "      <td>1596</td>\n",
              "    </tr>\n",
              "    <tr>\n",
              "      <th>3</th>\n",
              "      <td>Shampoo Every-Day</td>\n",
              "      <td>sebamed</td>\n",
              "      <td>3.45</td>\n",
              "      <td>200 ml</td>\n",
              "      <td>1200</td>\n",
              "    </tr>\n",
              "    <tr>\n",
              "      <th>4</th>\n",
              "      <td>Shampoo Tiefenreinigung</td>\n",
              "      <td>Balea Professional</td>\n",
              "      <td>1.45</td>\n",
              "      <td>250 ml</td>\n",
              "      <td>2240</td>\n",
              "    </tr>\n",
              "    <tr>\n",
              "      <th>...</th>\n",
              "      <td>...</td>\n",
              "      <td>...</td>\n",
              "      <td>...</td>\n",
              "      <td>...</td>\n",
              "      <td>...</td>\n",
              "    </tr>\n",
              "    <tr>\n",
              "      <th>495</th>\n",
              "      <td>Badezusatz Bade Murmeln</td>\n",
              "      <td>Tinti</td>\n",
              "      <td>1.95</td>\n",
              "      <td>3 St</td>\n",
              "      <td>no data</td>\n",
              "    </tr>\n",
              "    <tr>\n",
              "      <th>496</th>\n",
              "      <td>Badezusatz Superhelden Sprudelbad</td>\n",
              "      <td>Kneipp Naturkind</td>\n",
              "      <td>1.45</td>\n",
              "      <td>80 g</td>\n",
              "      <td>no data</td>\n",
              "    </tr>\n",
              "    <tr>\n",
              "      <th>497</th>\n",
              "      <td>Badezusatz Seeprinzessin Schaumbad</td>\n",
              "      <td>Kneipp Naturkind</td>\n",
              "      <td>3.25</td>\n",
              "      <td>400 ml</td>\n",
              "      <td>no data</td>\n",
              "    </tr>\n",
              "    <tr>\n",
              "      <th>498</th>\n",
              "      <td>Badezusatz Kinder Badespaß  Knisterbad Räuberb...</td>\n",
              "      <td>tetesept</td>\n",
              "      <td>1.75</td>\n",
              "      <td>50 g</td>\n",
              "      <td>no data</td>\n",
              "    </tr>\n",
              "    <tr>\n",
              "      <th>499</th>\n",
              "      <td>Badezusatz Zauberbad rosa / blau</td>\n",
              "      <td>Tinti</td>\n",
              "      <td>1.95</td>\n",
              "      <td>1 St</td>\n",
              "      <td>no data</td>\n",
              "    </tr>\n",
              "  </tbody>\n",
              "</table>\n",
              "<p>500 rows × 5 columns</p>\n",
              "</div>\n",
              "      <button class=\"colab-df-convert\" onclick=\"convertToInteractive('df-48055ba9-c22b-4dcc-83c0-07bb128e9070')\"\n",
              "              title=\"Convert this dataframe to an interactive table.\"\n",
              "              style=\"display:none;\">\n",
              "        \n",
              "  <svg xmlns=\"http://www.w3.org/2000/svg\" height=\"24px\"viewBox=\"0 0 24 24\"\n",
              "       width=\"24px\">\n",
              "    <path d=\"M0 0h24v24H0V0z\" fill=\"none\"/>\n",
              "    <path d=\"M18.56 5.44l.94 2.06.94-2.06 2.06-.94-2.06-.94-.94-2.06-.94 2.06-2.06.94zm-11 1L8.5 8.5l.94-2.06 2.06-.94-2.06-.94L8.5 2.5l-.94 2.06-2.06.94zm10 10l.94 2.06.94-2.06 2.06-.94-2.06-.94-.94-2.06-.94 2.06-2.06.94z\"/><path d=\"M17.41 7.96l-1.37-1.37c-.4-.4-.92-.59-1.43-.59-.52 0-1.04.2-1.43.59L10.3 9.45l-7.72 7.72c-.78.78-.78 2.05 0 2.83L4 21.41c.39.39.9.59 1.41.59.51 0 1.02-.2 1.41-.59l7.78-7.78 2.81-2.81c.8-.78.8-2.07 0-2.86zM5.41 20L4 18.59l7.72-7.72 1.47 1.35L5.41 20z\"/>\n",
              "  </svg>\n",
              "      </button>\n",
              "      \n",
              "  <style>\n",
              "    .colab-df-container {\n",
              "      display:flex;\n",
              "      flex-wrap:wrap;\n",
              "      gap: 12px;\n",
              "    }\n",
              "\n",
              "    .colab-df-convert {\n",
              "      background-color: #E8F0FE;\n",
              "      border: none;\n",
              "      border-radius: 50%;\n",
              "      cursor: pointer;\n",
              "      display: none;\n",
              "      fill: #1967D2;\n",
              "      height: 32px;\n",
              "      padding: 0 0 0 0;\n",
              "      width: 32px;\n",
              "    }\n",
              "\n",
              "    .colab-df-convert:hover {\n",
              "      background-color: #E2EBFA;\n",
              "      box-shadow: 0px 1px 2px rgba(60, 64, 67, 0.3), 0px 1px 3px 1px rgba(60, 64, 67, 0.15);\n",
              "      fill: #174EA6;\n",
              "    }\n",
              "\n",
              "    [theme=dark] .colab-df-convert {\n",
              "      background-color: #3B4455;\n",
              "      fill: #D2E3FC;\n",
              "    }\n",
              "\n",
              "    [theme=dark] .colab-df-convert:hover {\n",
              "      background-color: #434B5C;\n",
              "      box-shadow: 0px 1px 3px 1px rgba(0, 0, 0, 0.15);\n",
              "      filter: drop-shadow(0px 1px 2px rgba(0, 0, 0, 0.3));\n",
              "      fill: #FFFFFF;\n",
              "    }\n",
              "  </style>\n",
              "\n",
              "      <script>\n",
              "        const buttonEl =\n",
              "          document.querySelector('#df-48055ba9-c22b-4dcc-83c0-07bb128e9070 button.colab-df-convert');\n",
              "        buttonEl.style.display =\n",
              "          google.colab.kernel.accessAllowed ? 'block' : 'none';\n",
              "\n",
              "        async function convertToInteractive(key) {\n",
              "          const element = document.querySelector('#df-48055ba9-c22b-4dcc-83c0-07bb128e9070');\n",
              "          const dataTable =\n",
              "            await google.colab.kernel.invokeFunction('convertToInteractive',\n",
              "                                                     [key], {});\n",
              "          if (!dataTable) return;\n",
              "\n",
              "          const docLinkHtml = 'Like what you see? Visit the ' +\n",
              "            '<a target=\"_blank\" href=https://colab.research.google.com/notebooks/data_table.ipynb>data table notebook</a>'\n",
              "            + ' to learn more about interactive tables.';\n",
              "          element.innerHTML = '';\n",
              "          dataTable['output_type'] = 'display_data';\n",
              "          await google.colab.output.renderOutput(dataTable, element);\n",
              "          const docLink = document.createElement('div');\n",
              "          docLink.innerHTML = docLinkHtml;\n",
              "          element.appendChild(docLink);\n",
              "        }\n",
              "      </script>\n",
              "    </div>\n",
              "  </div>\n",
              "  "
            ]
          },
          "metadata": {},
          "execution_count": 20
        }
      ]
    },
    {
      "cell_type": "code",
      "source": [
        "print(*dan, sep=',')"
      ],
      "metadata": {
        "colab": {
          "base_uri": "https://localhost:8080/"
        },
        "id": "NIpo0EpTk1pq",
        "outputId": "a043d0ed-4cda-4c5b-853b-6440fbc96f16"
      },
      "execution_count": null,
      "outputs": [
        {
          "output_type": "stream",
          "name": "stdout",
          "text": [
            "717843,877312,877311,5245,599295,693963,694310,883629,505987,415352,599925,611632,262848,827713,23238,599072,458921,875350,945083,869197,888550,28620,894437,569770,569777,796414,869737,869198,569778,825336,917239,825451,415545,569773,639306,675875,415339,883630,986521,693993,796410,628382,914576,287471,870827,508346,605230,670695,503899,914645,917236,917231,986514,183123,738646,795947,40483,800404,986498,594982,798253,509630,493236,821532,857283,795951,604944,708502,723287,626444,872628,929508,877313,888493,368547,913923,726349,599183,347731,798173,458896,469237,990156,894445,599298,741805,599429,596249,577279,945062,728918,945071,624981,624992,415366,694370,611653,651284,544527,468668,596427,870975,869738,468540,224366,415368,721708,468566,631964,869193,468528,468545,596426,569780,917256,468553,624982,596430,597947,876532,624984,159803,415544,415371,869199,996494,883634,128295,710704,590202,628395,569771,693850,569781,693943,917202,465298,628396,870649,596264,838128,914573,996589,672205,725222,955378,658736,421350,914519,334474,799146,384863,118488,910806,851392,759208,567368,992330,530617,505777,871297,988267,988268,719570,831226,725463,719832,488371,912839,347700,738699,945409,945050,944948,872178,430427,445957,468550,721714,596429,468671,934531,468663,951938,721896,781299,415365,929302,797690,892156,945020,415369,468558,631222,569772,944941,569776,349564,687300,799266,415370,463731,951933,914433,673789,844178,675876,465419,838146,781300,914571,1059,879089,101593,188299,887265,887237,385270,798256,118487,890725,844295,831217,722731,722733,945985,876159,332217,416219,467607,604030,445925,333752,724098,468767,839483,945082,951936,944939,799264,945051,914572,914455,914457,953403,800295,800298,800296,800300,800297,800306,800301,675878,800307,800304,800291,675879,800309,800299,800293,894425,702280,333725,679846,944945,952790,879091,625809,879090,596092,670696,394815,542100,524539,466004,641919,877508,146846,899767,792713,869189,406678,795883,499876,869190,593809,861214,795877,475546,880031,898604,870108,880038,590727,475560,285999,791751,791769,464085,918218,466000,466012,740336,801401,536107,785411,468592,717528,535644,801403,535640,914197,870945,960816,870949,506956,785868,522230,771638,798677,929653,785870,843603,843601,725139,587669,725208,929652,843213,781343,603749,555515,899645,713215,713689,889793,929243,929242,990140,889791,889803,740338,499897,870948,536118,869219,870645,870947,600178,506966,870944,870644,542195,870107,817010,910805,843227,600127,870106,486201,486197,818533,648761,651304,844167,467503,981672,915800,875322,914188,870105,707166,870946,914552,869867,535550,945480,914551,535549,648760,952774,988248,625808,869865,837395,826477,948094,705278,944944,944938,945080,945084,945085,945079,945072,918198,918197,890895,468551,359119,795874,580760,792712,629919,914179,421102,168933,914199,891968,918217,468702,424048,914595,929131,615932,929275,869239,432215,506965,500436,889801,795850,914184,435347,835786,838714,891967,500434,899240,168902,524541,891962,945223,899243,948766,280894,571450,717509,899658,524257,805187,953017,890539,316692,708780,608045,549070,880027,914183,792711,843600,307037,880026,861245,877509,670693,307036,835784,425537,889794,914003,843606,899254,717514,889792,332533,332534,545532,835785,458853,458846,337406,899241,390637,895515,952390,389791,711069,899666,843212,801681,929533,523790,952288,783223,609841,899835,929530,533057,899242,801402,839775,929361,549131,377487,838716,835778,609818,593056,679484\n"
          ]
        }
      ]
    },
    {
      "cell_type": "code",
      "source": [
        "df.to_csv(\"products.csv\")\n"
      ],
      "metadata": {
        "id": "Zk3KQomHw7JU"
      },
      "execution_count": null,
      "outputs": []
    }
  ]
}